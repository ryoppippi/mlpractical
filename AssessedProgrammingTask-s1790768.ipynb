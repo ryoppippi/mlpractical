{
 "cells": [
  {
   "cell_type": "code",
   "execution_count": 12,
   "metadata": {},
   "outputs": [
    {
     "data": {
      "image/png": "[encoded data removed]",
      "text/plain": [
       "<matplotlib.figure.Figure at 0x7f75b8153358>"
      ]
     },
     "metadata": {},
     "output_type": "display_data"
    }
   ],
   "source": [
    "# setup plotting and load useful modules\n",
    "# matplotlib \"is a 2D plotting library which produces publication quality figures\".\n",
    "%matplotlib inline\n",
    "import numpy\n",
    "from matplotlib import pyplot\n",
    "# imported numpy as np to create a shortened alias of the numpy namespace.\n",
    "import numpy as np\n",
    "\n",
    "\n",
    "# geometricDataReader is the function being defined.\n",
    "def GeometricDataReader(File):\n",
    "    # creates an empty tuple list which will hold the data.    \n",
    "    xyCoord = []\n",
    "    # file is the string containing name and path of the file to be opened.\n",
    "    # opens the file in read mode 'r'.\n",
    "    inputdata = open(File, 'r')\n",
    "    # loop over each line of the file - Gets an iterator that is used to read the file, line by line.\n",
    "    # the Parentheses () were used to ensure my expressions were evaluated in the correct order.\n",
    "    for line in inputdata.readlines():\n",
    "        # splits the line and appends to the data list    \n",
    "        line = line.split()\n",
    "        xyCoord.append((float(line[0]), float(line[1])))\n",
    "    # used return statement to return the value of xyCoord, making it available \"to other parts of the program\".\n",
    "    return xyCoord\n",
    "\n",
    "\n",
    "GeometricDataReader('Scatter3.txt')\n",
    "\n",
    "# extend list class\n",
    "class GeomList(list):\n",
    "    # specieal method implementing assignment to:\n",
    "    def __setitem__ ( self ,i ,geom):\n",
    "        # ensures that geom is Point2D class\n",
    "        assert isinstance(geom,Point2D)\n",
    "        super(). __setitem__ (i ,geom)\n",
    "    def insert ( self, i ,geom):\n",
    "        assert isinstance(geom,Point2D)\n",
    "        super(). insert (i ,geom)\n",
    "    def append ( self ,geom):\n",
    "        assert isinstance(geom,Point2D)\n",
    "        super(). append (geom)\n",
    "    # moves the point coordinates\n",
    "    def move(self, x, y):\n",
    "        for point in self:\n",
    "            point.move(x, y)\n",
    "    # plots the points\n",
    "    def plot(self):\n",
    "        for point in self:\n",
    "            point.plot()\n",
    "        pyplot.title(\"Finished Plot\", fontsize=16)\n",
    "        # creates x-axis with fontsize\n",
    "        pyplot.xlabel(\"x-axis\", fontsize=16)\n",
    "        # creates y-axis with fontsize\n",
    "        pyplot.ylabel(\"y-axis\", fontsize=16)\n",
    "    # returns a copy of the GeomList\n",
    "    def copy(self):\n",
    "        return self\n",
    "    def linearRegression(self, n):\n",
    "        xList = []\n",
    "        yList = []\n",
    "        for point in self:\n",
    "            xList.append(point.xCoord)\n",
    "            yList.append(point.yCoord)\n",
    "        orders = np.array(np.polyfit(xList, yList, n))\n",
    "        p = np.poly1d(orders)\n",
    "        pyplot.plot(xList,p(xList))\n",
    "        \n",
    "        \n",
    "class Point2D:\n",
    "    def __init__(self, data):\n",
    "        self.xCoord = data[0]\n",
    "        self.yCoord = data[1]\n",
    "#     def show(self):\n",
    "#         print(self.xCoord)\n",
    "#         print(self.yCoord)\n",
    "    def move(self, x, y):\n",
    "        self.xCoord += x\n",
    "        self.yCoord += y \n",
    "    def plot(self):\n",
    "        # plots the data\n",
    "        pyplot.plot(self.xCoord, self.yCoord, \"o\", color = \"k\")\n",
    "    def copy(self):\n",
    "        return Point2D((xCoord, yCoord))\n",
    "    \n",
    "\n",
    "g = GeometricDataReader('Scatter3.txt')\n",
    "geodata = GeomList()\n",
    "for data in g:\n",
    "    geodata.append(Point2D(data))\n",
    "# geodata[0].show()\n",
    "# geodata.move(1, 2)\n",
    "# geodata[0].show()\n",
    "geodata.plot()\n",
    "geodata.linearRegression(2)\n",
    "# moves geodata to different coordinates\n",
    "geodata.move(0, 15)\n",
    "geodata.linearRegression (2)\n",
    "geodata.plot()\n",
    "pyplot.show()"
   ]
  },
  {
   "cell_type": "markdown",
   "metadata": {},
   "source": []
  },
  {
   "cell_type": "code",
   "execution_count": null,
   "metadata": {
    "collapsed": true
   },
   "outputs": [],
   "source": []
  }
 ],
 "metadata": {
  "kernelspec": {
   "display_name": "Python 3",
   "language": "python",
   "name": "python3"
  },
  "language_info": {
   "codemirror_mode": {
    "name": "ipython",
    "version": 3
   },
   "file_extension": ".py",
   "mimetype": "text/x-python",
   "name": "python",
   "nbconvert_exporter": "python",
   "pygments_lexer": "ipython3",
   "version": "3.5.2"
  }
 },
 "nbformat": 4,
 "nbformat_minor": 2
}
