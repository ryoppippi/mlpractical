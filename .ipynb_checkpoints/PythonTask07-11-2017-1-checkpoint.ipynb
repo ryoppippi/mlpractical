{
 "cells": [
  {
   "cell_type": "markdown",
   "metadata": {},
   "source": [
    "## First step: Import numpy library and matplotlib library functions. Use numpy command and shorten it as np."
   ]
  },
  {
   "cell_type": "code",
   "execution_count": 1,
   "metadata": {
    "collapsed": true
   },
   "outputs": [],
   "source": [
    "%matplotlib inline\n",
    "import numpy\n",
    "from matplotlib import pyplot\n",
    "import numpy as np"
   ]
  },
  {
   "cell_type": "markdown",
   "metadata": {},
   "source": [
    "## Second step: Reading file by use r command."
   ]
  },
  {
   "cell_type": "code",
   "execution_count": 27,
   "metadata": {},
   "outputs": [
    {
     "data": {
      "text/plain": [
       "[(20.19445914, 1.533629736),\n",
       " (21.31637731, 5.408446831),\n",
       " (22.01454667, 5.917552032),\n",
       " (25.40423855, 7.60320187),\n",
       " (26.93616819, 9.331091905),\n",
       " (27.26686869, 10.47948905),\n",
       " (26.47693372, 10.33397189),\n",
       " (28.2906279, 10.40149358),\n",
       " (28.38190266, 11.26142313),\n",
       " (31.11781403, 12.00763268),\n",
       " (30.62339422, 12.53582962),\n",
       " (31.83411243, 13.03816712),\n",
       " (33.11280821, 12.82270948),\n",
       " (35.78687895, 13.50722266),\n",
       " (35.89817543, 13.2712234),\n",
       " (35.12697407, 14.19850344),\n",
       " (36.51100361, 13.48165741),\n",
       " (39.31902147, 13.57791636),\n",
       " (39.17732499, 15.17705925),\n",
       " (40.18720359, 14.8652981),\n",
       " (41.54445481, 15.53644249),\n",
       " (41.03094759, 15.49583428),\n",
       " (42.33645392, 14.7111924),\n",
       " (45.19070766, 16.0428675),\n",
       " (45.54156154, 16.91504133),\n",
       " (45.39385016, 15.92769232),\n",
       " (48.67214679, 16.41328121),\n",
       " (48.6203467, 16.75485305),\n",
       " (48.43455335, 17.34821883),\n",
       " (51.15702406, 16.97475516)]"
      ]
     },
     "execution_count": 27,
     "metadata": {},
     "output_type": "execute_result"
    }
   ],
   "source": [
    "def GeomListDataReader(File):\n",
    "    xy = []   # [] in here means tuple.\n",
    "    inputdata = open(File, 'r')\n",
    "    for line in inputdata.readlines():  # Input data by use readline command.\n",
    "        line = line.split()\n",
    "        xy.append((float(line[0]), float(line[1])))\n",
    "    return xy\n",
    "   \n",
    "GeometricDataReader('Scatter3.txt')  # Implementing a function to readpoint"
   ]
  },
  {
   "cell_type": "markdown",
   "metadata": {},
   "source": [
    "## Third step: Extend list class."
   ]
  },
  {
   "cell_type": "code",
   "execution_count": 39,
   "metadata": {
    "collapsed": true
   },
   "outputs": [],
   "source": [
    "class GeomList(list):\n",
    "    def __setitem__ ( self ,i ,geom):\n",
    "        assert isinstance(geom,Point2D)  # make sure geo is point2D class\n",
    "        super(). __setitem__ (i ,geom)\n",
    "    def insert ( self, i ,geom):\n",
    "        assert isinstance(geom,Point2D)\n",
    "        super(). insert (i ,geom)\n",
    "    def append ( self ,geom):\n",
    "        assert isinstance(geom,Point2D)\n",
    "        super(). append (geom)\n",
    "        \n",
    "    def move(self, x, y):  # make move function implementing\n",
    "        for point in self:\n",
    "            point.move(x, y)\n",
    "            \n",
    "    def plot(self): # make plot function implementing\n",
    "        for point in self:\n",
    "            point.plot()\n",
    "            \n",
    "    def copy(self):\n",
    "        return self\n",
    "    \n",
    "    def linRegression(self, n):\n",
    "        xList = []\n",
    "        yList = []\n",
    "        for point in self:\n",
    "            xList.append(point.x)\n",
    "            yList.append(point.y)\n",
    "        orders = np.array(np.polyfit(xList, yList, n))\n",
    "        p = np.poly1d(orders)\n",
    "        pyplot.plot(xList,p(xList))  "
   ]
  },
  {
   "cell_type": "markdown",
   "metadata": {},
   "source": [
    "## Fourth step: Define point2D class."
   ]
  },
  {
   "cell_type": "code",
   "execution_count": 30,
   "metadata": {
    "collapsed": true
   },
   "outputs": [],
   "source": [
    "class Point2D:\n",
    "    def __init__(self, data):\n",
    "        self.x = data[0]\n",
    "        self.y = data[1]\n",
    "    def move(self, x, y):\n",
    "        self.x += x\n",
    "        self.y += y \n",
    "    def plot(self):\n",
    "        pyplot.plot(self.x, self.y, \"s\", color = \"blue\")\n",
    "    def copy(self):\n",
    "        return Point2D((x, y))"
   ]
  },
  {
   "cell_type": "markdown",
   "metadata": {},
   "source": [
    "## Fifth step: Implementing graph"
   ]
  },
  {
   "cell_type": "code",
   "execution_count": 28,
   "metadata": {},
   "outputs": [
    {
     "data": {
      "image/png": "[encoded data removed]",
      "text/plain": [
       "<matplotlib.figure.Figure at 0x7f726d580550>"
      ]
     },
     "metadata": {},
     "output_type": "display_data"
    }
   ],
   "source": [
    "g = GeomListDataReader('Scatter3.txt')\n",
    "geodata = GeomList()\n",
    "for data in g:\n",
    "    geodata.append(Point2D(data))\n",
    "\n",
    "geodata.plot()\n",
    "geodata.linRegression(2)\n",
    "pyplot.show()"
   ]
  },
  {
   "cell_type": "markdown",
   "metadata": {},
   "source": [
    "## Sixth step: Move graph"
   ]
  },
  {
   "cell_type": "code",
   "execution_count": 45,
   "metadata": {},
   "outputs": [
    {
     "data": {
      "image/png": "[encoded data removed]",
      "text/plain": [
       "<matplotlib.figure.Figure at 0x7f726d98cef0>"
      ]
     },
     "metadata": {},
     "output_type": "display_data"
    }
   ],
   "source": [
    "g = GeomListDataReader('Scatter3.txt')\n",
    "geodata = GeomList()\n",
    "for data in g:\n",
    "    geodata.append(Point2D(data))\n",
    "\n",
    "geodata.plot()\n",
    "geodata.linRegression(2)\n",
    "geodata.move(0, 12)\n",
    "geodata.linRegression(2)\n",
    "geodata.plot()\n",
    "pyplot.show()"
   ]
  },
  {
   "cell_type": "code",
   "execution_count": null,
   "metadata": {
    "collapsed": true
   },
   "outputs": [],
   "source": []
  }
 ],
 "metadata": {
  "hide_input": false,
  "kernelspec": {
   "display_name": "Python 3",
   "language": "python",
   "name": "python3"
  },
  "language_info": {
   "codemirror_mode": {
    "name": "ipython",
    "version": 3
   },
   "file_extension": ".py",
   "mimetype": "text/x-python",
   "name": "python",
   "nbconvert_exporter": "python",
   "pygments_lexer": "ipython3",
   "version": "3.6.1"
  },
  "varInspector": {
   "cols": {
    "lenName": 16,
    "lenType": 16,
    "lenVar": 40
   },
   "kernels_config": {
    "python": {
     "delete_cmd_postfix": "",
     "delete_cmd_prefix": "del ",
     "library": "var_list.py",
     "varRefreshCmd": "print(var_dic_list())"
    },
    "r": {
     "delete_cmd_postfix": ") ",
     "delete_cmd_prefix": "rm(",
     "library": "var_list.r",
     "varRefreshCmd": "cat(var_dic_list()) "
    }
   },
   "types_to_exclude": [
    "module",
    "function",
    "builtin_function_or_method",
    "instance",
    "_Feature"
   ],
   "window_display": false
  }
 },
 "nbformat": 4,
 "nbformat_minor": 2
}
