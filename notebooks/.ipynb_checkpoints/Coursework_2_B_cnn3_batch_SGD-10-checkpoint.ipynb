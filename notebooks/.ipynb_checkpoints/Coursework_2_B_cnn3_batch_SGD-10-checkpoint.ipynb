{
 "cells": [
  {
   "cell_type": "code",
   "execution_count": 1,
   "metadata": {},
   "outputs": [
    {
     "name": "stdout",
     "output_type": "stream",
     "text": [
      "['inputs', 'targets']\n",
      "['inputs', 'targets']\n"
     ]
    }
   ],
   "source": [
    "%load_ext autoreload\n",
    "\n",
    "%autoreload 2\n",
    "\n",
    "import matplotlib.pyplot as plt\n",
    "%matplotlib inline\n",
    "plt.style.use('ggplot')\n",
    "from datetime import datetime\n",
    "\n",
    "def train_model_and_plot_stats(\n",
    "        model, error, learning_rule, train_data, valid_data, num_epochs, stats_interval, notebook=True):\n",
    "    \n",
    "    # As well as monitoring the error over training also monitor classification\n",
    "    # accuracy i.e. proportion of most-probable predicted classes being equal to targets\n",
    "    data_monitors={'acc': lambda y, t: (y.argmax(-1) == t.argmax(-1)).mean()}\n",
    "\n",
    "    # Use the created objects to initialise a new Optimiser instance.\n",
    "    optimiser = Optimiser(\n",
    "        model, error, learning_rule, train_data, valid_data, data_monitors, notebook=notebook)\n",
    "\n",
    "    # Run the optimiser for 5 epochs (full passes through the training set)\n",
    "    # printing statistics every epoch.\n",
    "    stats, keys, run_time = optimiser.train(num_epochs=num_epochs, stats_interval=stats_interval)\n",
    "\n",
    "    # Plot the change in the validation and training set error over training.\n",
    "    fig_1 = plt.figure(figsize=(8, 4))\n",
    "    ax_1 = fig_1.add_subplot(111)\n",
    "    for k in ['error(train)', 'error(valid)']:\n",
    "        ax_1.plot(np.arange(1, stats.shape[0]) * stats_interval, \n",
    "                  stats[1:, keys[k]], label=k)\n",
    "    ax_1.legend(loc=0)\n",
    "    ax_1.set_xlabel('Epoch number')\n",
    "\n",
    "    # Plot the change in the validation and training set accuracy over training.\n",
    "    fig_2 = plt.figure(figsize=(8, 4))\n",
    "    ax_2 = fig_2.add_subplot(111)\n",
    "    for k in ['acc(train)', 'acc(valid)']:\n",
    "        ax_2.plot(np.arange(1, stats.shape[0]) * stats_interval, \n",
    "                  stats[1:, keys[k]], label=k)\n",
    "    ax_2.legend(loc=0)\n",
    "    ax_2.set_xlabel('Epoch number')\n",
    "    \n",
    "    plt.savefig(datetime.now().strftime(\"%Y/%m/%d %H:%M:%S\") + \".pdf\")\n",
    "    return stats, keys, run_time, fig_1, ax_1, fig_2, ax_2\n",
    "\n",
    "# The below code will set up the data providers, random number\n",
    "# generator and logger objects needed for training runs. As\n",
    "# loading the data from file take a little while you generally\n",
    "# will probably not want to reload the data providers on\n",
    "# every training run. If you wish to reset their state you\n",
    "# should instead use the .reset() method of the data providers.\n",
    "import numpy as np\n",
    "import logging\n",
    "from mlp.data_providers import MNISTDataProvider, EMNISTDataProvider\n",
    "\n",
    "# Seed a random number generator\n",
    "seed = 10102016 \n",
    "rng = np.random.RandomState(seed)\n",
    "batch_size = 100\n",
    "# Set up a logger object to print info about the training run to stdout\n",
    "logger = logging.getLogger()\n",
    "logger.setLevel(logging.INFO)\n",
    "logger.handlers = [logging.StreamHandler()]\n",
    "\n",
    "# Create data provider objects for the MNIST data set\n",
    "train_data = EMNISTDataProvider('train', batch_size=batch_size, rng=rng)\n",
    "valid_data = EMNISTDataProvider('valid', batch_size=batch_size, rng=rng)\n",
    "\n"
   ]
  },
  {
   "cell_type": "code",
   "execution_count": 2,
   "metadata": {
    "collapsed": true
   },
   "outputs": [],
   "source": [
    "from mlp.layers import *\n",
    "from mlp.errors import CrossEntropySoftmaxError\n",
    "from mlp.models import MultipleLayerModel\n",
    "from mlp.initialisers import ConstantInit, GlorotUniformInit\n",
    "from mlp.learning_rules import *\n",
    "from mlp.optimisers import Optimiser"
   ]
  },
  {
   "cell_type": "markdown",
   "metadata": {},
   "source": [
    "論文　Batch+CNN"
   ]
  },
  {
   "cell_type": "code",
   "execution_count": null,
   "metadata": {
    "scrolled": false
   },
   "outputs": [
    {
     "name": "stdout",
     "output_type": "stream",
     "text": [
      "PrintLayer fprop: (100, 1, 28, 28)\n",
      "PrintLayer fprop: (100, 5, 24, 24)\n",
      "PrintLayer fprop: (100, 5, 24, 24)\n",
      "PrintLayer fprop: (100, 5, 12, 12)\n",
      "PrintLayer fprop: (100, 10, 8, 8)\n",
      "PrintLayer fprop: (100, 10, 8, 8)\n",
      "PrintLayer fprop: (100, 20, 4, 4)\n",
      "PrintLayer fprop: (100, 20, 4, 4)\n",
      "PrintLayer fprop: (100, 320)\n",
      "PrintLayer fprop: (100, 320)\n",
      "PrintLayer fprop: (100, 20, 4, 4)\n",
      "PrintLayer fprop: (100, 20, 2, 2)\n",
      "PrintLayer fprop: (100, 80)\n",
      "PrintLayer fprop: (100, 80)\n",
      "PrintLayer fprop: (100, 47)\n"
     ]
    },
    {
     "data": {
      "application/vnd.jupyter.widget-view+json": {
       "model_id": "4fc31add239f4d11a0ffad19352b97e6",
       "version_major": 2,
       "version_minor": 0
      },
      "text/plain": [
       "A Jupyter Widget"
      ]
     },
     "metadata": {},
     "output_type": "display_data"
    },
    {
     "data": {
      "application/vnd.jupyter.widget-view+json": {
       "model_id": "555ee3cf7cd848f39bf3609035db3fca",
       "version_major": 2,
       "version_minor": 0
      },
      "text/plain": [
       "A Jupyter Widget"
      ]
     },
     "metadata": {},
     "output_type": "display_data"
    },
    {
     "name": "stdout",
     "output_type": "stream",
     "text": [
      "PrintLayer bprop: (100, 47)\n",
      "PrintLayer param: (100, 47)\n",
      "PrintLayer bprop: (100, 80)\n",
      "PrintLayer param: (100, 80)\n",
      "PrintLayer bprop: (100, 80)\n",
      "PrintLayer param: (100, 80)\n",
      "PrintLayer bprop: (100, 20, 2, 2)\n",
      "PrintLayer param: (100, 20, 2, 2)\n",
      "PrintLayer bprop: (100, 20, 4, 4)\n",
      "PrintLayer param: (100, 20, 4, 4)\n",
      "PrintLayer bprop: (100, 320)\n",
      "PrintLayer param: (100, 320)\n",
      "PrintLayer bprop: (100, 320)\n",
      "PrintLayer param: (100, 320)\n",
      "PrintLayer bprop: (100, 20, 4, 4)\n",
      "PrintLayer param: (100, 20, 4, 4)\n",
      "PrintLayer bprop: (100, 20, 4, 4)\n",
      "PrintLayer param: (100, 20, 4, 4)\n",
      "PrintLayer bprop: (100, 10, 8, 8)\n",
      "PrintLayer param: (100, 10, 8, 8)\n",
      "PrintLayer bprop: (100, 10, 8, 8)\n",
      "PrintLayer param: (100, 10, 8, 8)\n",
      "PrintLayer bprop: (100, 5, 12, 12)\n",
      "PrintLayer param: (100, 5, 12, 12)\n",
      "PrintLayer bprop: (100, 5, 24, 24)\n",
      "PrintLayer param: (100, 5, 24, 24)\n",
      "PrintLayer bprop: (100, 5, 24, 24)\n",
      "PrintLayer param: (100, 5, 24, 24)\n",
      "PrintLayer bprop: (100, 1, 28, 28)\n",
      "PrintLayer param: (100, 1, 28, 28)\n"
     ]
    },
    {
     "name": "stderr",
     "output_type": "stream",
     "text": [
      "Epoch 1: 4604.1s to complete\n",
      "    error(train)=9.52e-01, acc(train)=7.26e-01, error(valid)=9.45e-01, acc(valid)=7.31e-01\n"
     ]
    },
    {
     "data": {
      "application/vnd.jupyter.widget-view+json": {
       "model_id": "182377225030434eae65355fd0959cdc",
       "version_major": 2,
       "version_minor": 0
      },
      "text/plain": [
       "A Jupyter Widget"
      ]
     },
     "metadata": {},
     "output_type": "display_data"
    },
    {
     "name": "stderr",
     "output_type": "stream",
     "text": [
      "Epoch 2: 5092.8s to complete\n",
      "    error(train)=7.07e-01, acc(train)=7.84e-01, error(valid)=7.15e-01, acc(valid)=7.85e-01\n"
     ]
    },
    {
     "data": {
      "application/vnd.jupyter.widget-view+json": {
       "model_id": "c53ab65698a846dfa1b88de00ba45f0c",
       "version_major": 2,
       "version_minor": 0
      },
      "text/plain": [
       "A Jupyter Widget"
      ]
     },
     "metadata": {},
     "output_type": "display_data"
    },
    {
     "name": "stderr",
     "output_type": "stream",
     "text": [
      "Epoch 3: 4708.9s to complete\n",
      "    error(train)=6.08e-01, acc(train)=8.09e-01, error(valid)=6.20e-01, acc(valid)=8.04e-01\n"
     ]
    },
    {
     "data": {
      "application/vnd.jupyter.widget-view+json": {
       "model_id": "776d5eefedd24ebdab9b6999a6176952",
       "version_major": 2,
       "version_minor": 0
      },
      "text/plain": [
       "A Jupyter Widget"
      ]
     },
     "metadata": {},
     "output_type": "display_data"
    },
    {
     "name": "stderr",
     "output_type": "stream",
     "text": [
      "Epoch 4: 4846.6s to complete\n",
      "    error(train)=5.71e-01, acc(train)=8.18e-01, error(valid)=5.89e-01, acc(valid)=8.13e-01\n"
     ]
    },
    {
     "data": {
      "application/vnd.jupyter.widget-view+json": {
       "model_id": "56187e83e9cc48ea9429267056e2e6b3",
       "version_major": 2,
       "version_minor": 0
      },
      "text/plain": [
       "A Jupyter Widget"
      ]
     },
     "metadata": {},
     "output_type": "display_data"
    },
    {
     "name": "stderr",
     "output_type": "stream",
     "text": [
      "Epoch 5: 4245.4s to complete\n",
      "    error(train)=5.27e-01, acc(train)=8.28e-01, error(valid)=5.47e-01, acc(valid)=8.21e-01\n"
     ]
    },
    {
     "data": {
      "application/vnd.jupyter.widget-view+json": {
       "model_id": "c2cdea8798cd4a308e2746bca0e3f1f0",
       "version_major": 2,
       "version_minor": 0
      },
      "text/plain": [
       "A Jupyter Widget"
      ]
     },
     "metadata": {},
     "output_type": "display_data"
    },
    {
     "name": "stderr",
     "output_type": "stream",
     "text": [
      "Epoch 6: 3858.8s to complete\n",
      "    error(train)=5.10e-01, acc(train)=8.32e-01, error(valid)=5.31e-01, acc(valid)=8.26e-01\n"
     ]
    },
    {
     "data": {
      "application/vnd.jupyter.widget-view+json": {
       "model_id": "779afa28e2f9476f88e54019d7abc3e4",
       "version_major": 2,
       "version_minor": 0
      },
      "text/plain": [
       "A Jupyter Widget"
      ]
     },
     "metadata": {},
     "output_type": "display_data"
    },
    {
     "name": "stderr",
     "output_type": "stream",
     "text": [
      "Epoch 7: 3857.8s to complete\n",
      "    error(train)=4.98e-01, acc(train)=8.36e-01, error(valid)=5.19e-01, acc(valid)=8.31e-01\n"
     ]
    },
    {
     "data": {
      "application/vnd.jupyter.widget-view+json": {
       "model_id": "c7319df70f364e6da6138039206fd58a",
       "version_major": 2,
       "version_minor": 0
      },
      "text/plain": [
       "A Jupyter Widget"
      ]
     },
     "metadata": {},
     "output_type": "display_data"
    },
    {
     "name": "stderr",
     "output_type": "stream",
     "text": [
      "Epoch 8: 3846.4s to complete\n",
      "    error(train)=4.86e-01, acc(train)=8.40e-01, error(valid)=5.11e-01, acc(valid)=8.31e-01\n"
     ]
    },
    {
     "data": {
      "application/vnd.jupyter.widget-view+json": {
       "model_id": "66f5b8333a434e5c8ced8b420671d28f",
       "version_major": 2,
       "version_minor": 0
      },
      "text/plain": [
       "A Jupyter Widget"
      ]
     },
     "metadata": {},
     "output_type": "display_data"
    },
    {
     "name": "stderr",
     "output_type": "stream",
     "text": [
      "Epoch 9: 2831.6s to complete\n",
      "    error(train)=4.91e-01, acc(train)=8.36e-01, error(valid)=5.18e-01, acc(valid)=8.30e-01\n"
     ]
    },
    {
     "data": {
      "application/vnd.jupyter.widget-view+json": {
       "model_id": "cca53e905f60448c94b0eb9f3476c856",
       "version_major": 2,
       "version_minor": 0
      },
      "text/plain": [
       "A Jupyter Widget"
      ]
     },
     "metadata": {},
     "output_type": "display_data"
    },
    {
     "name": "stderr",
     "output_type": "stream",
     "text": [
      "Epoch 10: 2520.8s to complete\n",
      "    error(train)=4.57e-01, acc(train)=8.46e-01, error(valid)=4.86e-01, acc(valid)=8.41e-01\n"
     ]
    },
    {
     "data": {
      "application/vnd.jupyter.widget-view+json": {
       "model_id": "f07c98a786fd4436b961b1d768f0a7ce",
       "version_major": 2,
       "version_minor": 0
      },
      "text/plain": [
       "A Jupyter Widget"
      ]
     },
     "metadata": {},
     "output_type": "display_data"
    }
   ],
   "source": [
    "# The model set up code below is provided as a starting point.\n",
    "# You will probably want to add further code cells for the\n",
    "# different experiments you run.\n",
    "\n",
    "from mlp.layers import *\n",
    "from mlp.errors import CrossEntropySoftmaxError\n",
    "from mlp.models import MultipleLayerModel\n",
    "from mlp.initialisers import ConstantInit, GlorotUniformInit\n",
    "from mlp.learning_rules import *\n",
    "from mlp.optimisers import Optimiser\n",
    "\n",
    "#setup hyperparameters\n",
    "num_epochs = 50\n",
    "stats_interval = 1\n",
    "input_dim, output_dim, hidden_dim = 784, 47, 100\n",
    "kernel_dim = 5\n",
    "\n",
    "weights_init = GlorotUniformInit(rng=rng)\n",
    "biases_init = ConstantInit(0.)\n",
    "model = MultipleLayerModel([\n",
    "    ReshapeLayer((1,28,28,)) , #(1, 28, 28)\n",
    "    PrintLayer(),\n",
    "    ConvolutionalLayer(1, 5, 28, 28, 5, 5) , # (5, 24, 24)\n",
    "    PrintLayer(),\n",
    "    TanhLayer(), # (5, 24, 24)\n",
    "    PrintLayer(),\n",
    "    MaxPoolingLayer() ,  # (5, 12, 12)\n",
    "    PrintLayer(),\n",
    "    ConvolutionalLayer(5,10,12,12,5,5), # (10, 8, 8)\n",
    "    PrintLayer(),\n",
    "    TanhLayer(), # (10, 8, 8)\n",
    "    PrintLayer(),\n",
    "    ConvolutionalLayer(10,20,8,8,5,5), # (20, 4, 4)\n",
    "    PrintLayer(),\n",
    "    TanhLayer(), # (20, 4, 4)\n",
    "    PrintLayer(),\n",
    "    ReshapeLayer((20*4*4,)), #(320)\n",
    "    PrintLayer(),\n",
    "    BatchNormalizationLayer(320),\n",
    "    PrintLayer(),\n",
    "    ReshapeLayer((20, 4, 4,)), # (20, 4, 4)\n",
    "    \n",
    "    PrintLayer(),\n",
    "    MaxPoolingLayer(), # (20, 2, 2)\n",
    "    PrintLayer(),\n",
    "    ReshapeLayer((20*2*2,)), #(80)\n",
    "    PrintLayer(),\n",
    "    BatchNormalizationLayer(80),\n",
    "    PrintLayer(),\n",
    "    AffineLayer(80, output_dim, weights_init, biases_init), # 47\n",
    "    PrintLayer()\n",
    "])\n",
    "\n",
    "\n",
    "error = CrossEntropySoftmaxError()\n",
    "# Use a basic gradient descent learning rule\n",
    "learning_rule = GradientDescentLearningRule(learning_rate=0.03)\n",
    "\n",
    "#Remember to use notebook=False when you write a script to be run in a terminal\n",
    "_ = train_model_and_plot_stats(\n",
    "    model, error, learning_rule, train_data, valid_data, num_epochs, stats_interval, notebook=True)"
   ]
  },
  {
   "cell_type": "code",
   "execution_count": null,
   "metadata": {
    "collapsed": true
   },
   "outputs": [],
   "source": []
  }
 ],
 "metadata": {
  "hide_input": false,
  "kernelspec": {
   "display_name": "mlp",
   "language": "python",
   "name": "mlp"
  },
  "language_info": {
   "codemirror_mode": {
    "name": "ipython",
    "version": 3
   },
   "file_extension": ".py",
   "mimetype": "text/x-python",
   "name": "python",
   "nbconvert_exporter": "python",
   "pygments_lexer": "ipython3",
   "version": "3.6.2"
  },
  "varInspector": {
   "cols": {
    "lenName": 16,
    "lenType": 16,
    "lenVar": 40
   },
   "kernels_config": {
    "python": {
     "delete_cmd_postfix": "",
     "delete_cmd_prefix": "del ",
     "library": "var_list.py",
     "varRefreshCmd": "print(var_dic_list())"
    },
    "r": {
     "delete_cmd_postfix": ") ",
     "delete_cmd_prefix": "rm(",
     "library": "var_list.r",
     "varRefreshCmd": "cat(var_dic_list()) "
    }
   },
   "types_to_exclude": [
    "module",
    "function",
    "builtin_function_or_method",
    "instance",
    "_Feature"
   ],
   "window_display": false
  }
 },
 "nbformat": 4,
 "nbformat_minor": 2
}
