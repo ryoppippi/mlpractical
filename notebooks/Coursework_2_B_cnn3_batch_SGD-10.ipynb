{
 "cells": [
  {
   "cell_type": "code",
   "execution_count": 1,
   "metadata": {},
   "outputs": [
    {
     "name": "stdout",
     "output_type": "stream",
     "text": [
      "['inputs', 'targets']\n",
      "['inputs', 'targets']\n"
     ]
    }
   ],
   "source": [
    "%load_ext autoreload\n",
    "\n",
    "%autoreload 2\n",
    "\n",
    "import matplotlib.pyplot as plt\n",
    "%matplotlib inline\n",
    "plt.style.use('ggplot')\n",
    "from datetime import datetime\n",
    "\n",
    "def train_model_and_plot_stats(\n",
    "        model, error, learning_rule, train_data, valid_data, num_epochs, stats_interval, notebook=True):\n",
    "    \n",
    "    # As well as monitoring the error over training also monitor classification\n",
    "    # accuracy i.e. proportion of most-probable predicted classes being equal to targets\n",
    "    data_monitors={'acc': lambda y, t: (y.argmax(-1) == t.argmax(-1)).mean()}\n",
    "\n",
    "    # Use the created objects to initialise a new Optimiser instance.\n",
    "    optimiser = Optimiser(\n",
    "        model, error, learning_rule, train_data, valid_data, data_monitors, notebook=notebook)\n",
    "\n",
    "    # Run the optimiser for 5 epochs (full passes through the training set)\n",
    "    # printing statistics every epoch.\n",
    "    stats, keys, run_time = optimiser.train(num_epochs=num_epochs, stats_interval=stats_interval)\n",
    "\n",
    "    # Plot the change in the validation and training set error over training.\n",
    "    fig_1 = plt.figure(figsize=(8, 4))\n",
    "    ax_1 = fig_1.add_subplot(111)\n",
    "    for k in ['error(train)', 'error(valid)']:\n",
    "        ax_1.plot(np.arange(1, stats.shape[0]) * stats_interval, \n",
    "                  stats[1:, keys[k]], label=k)\n",
    "    ax_1.legend(loc=0)\n",
    "    ax_1.set_xlabel('Epoch number')\n",
    "\n",
    "    # Plot the change in the validation and training set accuracy over training.\n",
    "    fig_2 = plt.figure(figsize=(8, 4))\n",
    "    ax_2 = fig_2.add_subplot(111)\n",
    "    for k in ['acc(train)', 'acc(valid)']:\n",
    "        ax_2.plot(np.arange(1, stats.shape[0]) * stats_interval, \n",
    "                  stats[1:, keys[k]], label=k)\n",
    "    ax_2.legend(loc=0)\n",
    "    ax_2.set_xlabel('Epoch number')\n",
    "    \n",
    "#     plt.savefig(datetime.now().strftime(\"%Y/%m/%d %H:%M:%S\") + \".pdf\")\n",
    "    return stats, keys, run_time, fig_1, ax_1, fig_2, ax_2\n",
    "\n",
    "# The below code will set up the data providers, random number\n",
    "# generator and logger objects needed for training runs. As\n",
    "# loading the data from file take a little while you generally\n",
    "# will probably not want to reload the data providers on\n",
    "# every training run. If you wish to reset their state you\n",
    "# should instead use the .reset() method of the data providers.\n",
    "import numpy as np\n",
    "import logging\n",
    "from mlp.data_providers import MNISTDataProvider, EMNISTDataProvider\n",
    "\n",
    "# Seed a random number generator\n",
    "seed = 10102016 \n",
    "rng = np.random.RandomState(seed)\n",
    "batch_size = 100\n",
    "# Set up a logger object to print info about the training run to stdout\n",
    "logger = logging.getLogger()\n",
    "logger.setLevel(logging.INFO)\n",
    "logger.handlers = [logging.StreamHandler()]\n",
    "\n",
    "# Create data provider objects for the MNIST data set\n",
    "train_data = EMNISTDataProvider('train', batch_size=batch_size, rng=rng)\n",
    "valid_data = EMNISTDataProvider('valid', batch_size=batch_size, rng=rng)\n",
    "\n"
   ]
  },
  {
   "cell_type": "code",
   "execution_count": 2,
   "metadata": {
    "collapsed": true
   },
   "outputs": [],
   "source": [
    "from mlp.layers import *\n",
    "from mlp.errors import CrossEntropySoftmaxError\n",
    "from mlp.models import MultipleLayerModel\n",
    "from mlp.initialisers import ConstantInit, GlorotUniformInit\n",
    "from mlp.learning_rules import *\n",
    "from mlp.optimisers import Optimiser"
   ]
  },
  {
   "cell_type": "markdown",
   "metadata": {},
   "source": [
    "論文　Batch+CNN"
   ]
  },
  {
   "cell_type": "code",
   "execution_count": 3,
   "metadata": {
    "scrolled": false
   },
   "outputs": [
    {
     "name": "stdout",
     "output_type": "stream",
     "text": [
      "PrintLayer fprop: (100, 1, 28, 28)\n",
      "PrintLayer fprop: (100, 5, 24, 24)\n",
      "PrintLayer fprop: (100, 5, 24, 24)\n",
      "PrintLayer fprop: (100, 5, 12, 12)\n",
      "PrintLayer fprop: (100, 10, 8, 8)\n",
      "PrintLayer fprop: (100, 10, 8, 8)\n",
      "PrintLayer fprop: (100, 20, 4, 4)\n",
      "PrintLayer fprop: (100, 20, 4, 4)\n",
      "PrintLayer fprop: (100, 320)\n",
      "PrintLayer fprop: (100, 320)\n",
      "PrintLayer fprop: (100, 20, 4, 4)\n",
      "PrintLayer fprop: (100, 20, 2, 2)\n",
      "PrintLayer fprop: (100, 80)\n",
      "PrintLayer fprop: (100, 80)\n",
      "PrintLayer fprop: (100, 47)\n"
     ]
    },
    {
     "data": {
      "application/vnd.jupyter.widget-view+json": {
       "model_id": "da5361356ee642189f5e93dae3d1e3cb",
       "version_major": 2,
       "version_minor": 0
      },
      "text/plain": [
       "A Jupyter Widget"
      ]
     },
     "metadata": {},
     "output_type": "display_data"
    },
    {
     "data": {
      "application/vnd.jupyter.widget-view+json": {
       "model_id": "71a3c59cc6f94dfb884664c6b62c90a4",
       "version_major": 2,
       "version_minor": 0
      },
      "text/plain": [
       "A Jupyter Widget"
      ]
     },
     "metadata": {},
     "output_type": "display_data"
    },
    {
     "name": "stdout",
     "output_type": "stream",
     "text": [
      "PrintLayer bprop: (100, 47)\n",
      "PrintLayer param: (100, 47)\n",
      "PrintLayer bprop: (100, 80)\n",
      "PrintLayer param: (100, 80)\n",
      "PrintLayer bprop: (100, 80)\n",
      "PrintLayer param: (100, 80)\n",
      "PrintLayer bprop: (100, 20, 2, 2)\n",
      "PrintLayer param: (100, 20, 2, 2)\n",
      "PrintLayer bprop: (100, 20, 4, 4)\n",
      "PrintLayer param: (100, 20, 4, 4)\n",
      "PrintLayer bprop: (100, 320)\n",
      "PrintLayer param: (100, 320)\n",
      "PrintLayer bprop: (100, 320)\n",
      "PrintLayer param: (100, 320)\n",
      "PrintLayer bprop: (100, 20, 4, 4)\n",
      "PrintLayer param: (100, 20, 4, 4)\n",
      "PrintLayer bprop: (100, 20, 4, 4)\n",
      "PrintLayer param: (100, 20, 4, 4)\n",
      "PrintLayer bprop: (100, 10, 8, 8)\n",
      "PrintLayer param: (100, 10, 8, 8)\n",
      "PrintLayer bprop: (100, 10, 8, 8)\n",
      "PrintLayer param: (100, 10, 8, 8)\n",
      "PrintLayer bprop: (100, 5, 12, 12)\n",
      "PrintLayer param: (100, 5, 12, 12)\n",
      "PrintLayer bprop: (100, 5, 24, 24)\n",
      "PrintLayer param: (100, 5, 24, 24)\n",
      "PrintLayer bprop: (100, 5, 24, 24)\n",
      "PrintLayer param: (100, 5, 24, 24)\n",
      "PrintLayer bprop: (100, 1, 28, 28)\n",
      "PrintLayer param: (100, 1, 28, 28)\n"
     ]
    },
    {
     "name": "stderr",
     "output_type": "stream",
     "text": [
      "Epoch 1: 4456.8s to complete\n",
      "    error(train)=8.54e-01, acc(train)=7.46e-01, error(valid)=8.51e-01, acc(valid)=7.51e-01\n"
     ]
    },
    {
     "data": {
      "application/vnd.jupyter.widget-view+json": {
       "model_id": "37d1935cf14242a4b76cd9d6a73e4edf",
       "version_major": 2,
       "version_minor": 0
      },
      "text/plain": [
       "A Jupyter Widget"
      ]
     },
     "metadata": {},
     "output_type": "display_data"
    },
    {
     "name": "stderr",
     "output_type": "stream",
     "text": [
      "Epoch 2: 6263.5s to complete\n",
      "    error(train)=6.77e-01, acc(train)=7.90e-01, error(valid)=6.79e-01, acc(valid)=7.91e-01\n"
     ]
    },
    {
     "data": {
      "application/vnd.jupyter.widget-view+json": {
       "model_id": "8fdde580171f41d2a3e321b599307179",
       "version_major": 2,
       "version_minor": 0
      },
      "text/plain": [
       "A Jupyter Widget"
      ]
     },
     "metadata": {},
     "output_type": "display_data"
    },
    {
     "name": "stderr",
     "output_type": "stream",
     "text": [
      "Epoch 3: 4390.0s to complete\n",
      "    error(train)=5.70e-01, acc(train)=8.16e-01, error(valid)=5.79e-01, acc(valid)=8.12e-01\n"
     ]
    },
    {
     "data": {
      "application/vnd.jupyter.widget-view+json": {
       "model_id": "8375520f0b9343afa0e385e5ccf5618d",
       "version_major": 2,
       "version_minor": 0
      },
      "text/plain": [
       "A Jupyter Widget"
      ]
     },
     "metadata": {},
     "output_type": "display_data"
    },
    {
     "name": "stderr",
     "output_type": "stream",
     "text": [
      "Epoch 4: 4587.8s to complete\n",
      "    error(train)=5.43e-01, acc(train)=8.20e-01, error(valid)=5.46e-01, acc(valid)=8.20e-01\n"
     ]
    },
    {
     "data": {
      "application/vnd.jupyter.widget-view+json": {
       "model_id": "93b62b08ad15425b98c72c3011e3992b",
       "version_major": 2,
       "version_minor": 0
      },
      "text/plain": [
       "A Jupyter Widget"
      ]
     },
     "metadata": {},
     "output_type": "display_data"
    },
    {
     "name": "stderr",
     "output_type": "stream",
     "text": [
      "Epoch 5: 5052.3s to complete\n",
      "    error(train)=5.13e-01, acc(train)=8.31e-01, error(valid)=5.24e-01, acc(valid)=8.27e-01\n"
     ]
    },
    {
     "data": {
      "application/vnd.jupyter.widget-view+json": {
       "model_id": "19fe5848f81f4c2abd5a50d30a06b108",
       "version_major": 2,
       "version_minor": 0
      },
      "text/plain": [
       "A Jupyter Widget"
      ]
     },
     "metadata": {},
     "output_type": "display_data"
    },
    {
     "name": "stderr",
     "output_type": "stream",
     "text": [
      "Epoch 6: 3486.8s to complete\n",
      "    error(train)=4.90e-01, acc(train)=8.36e-01, error(valid)=5.04e-01, acc(valid)=8.33e-01\n"
     ]
    },
    {
     "data": {
      "application/vnd.jupyter.widget-view+json": {
       "model_id": "f1222dce8b374018a32665228166a5c3",
       "version_major": 2,
       "version_minor": 0
      },
      "text/plain": [
       "A Jupyter Widget"
      ]
     },
     "metadata": {},
     "output_type": "display_data"
    },
    {
     "name": "stderr",
     "output_type": "stream",
     "text": [
      "Epoch 7: 2257.0s to complete\n",
      "    error(train)=4.76e-01, acc(train)=8.42e-01, error(valid)=4.87e-01, acc(valid)=8.38e-01\n"
     ]
    },
    {
     "data": {
      "application/vnd.jupyter.widget-view+json": {
       "model_id": "5420a79a8b6d408ba8d7784bbd8689b6",
       "version_major": 2,
       "version_minor": 0
      },
      "text/plain": [
       "A Jupyter Widget"
      ]
     },
     "metadata": {},
     "output_type": "display_data"
    },
    {
     "name": "stderr",
     "output_type": "stream",
     "text": [
      "Epoch 8: 2261.1s to complete\n",
      "    error(train)=4.67e-01, acc(train)=8.42e-01, error(valid)=4.82e-01, acc(valid)=8.39e-01\n"
     ]
    },
    {
     "data": {
      "application/vnd.jupyter.widget-view+json": {
       "model_id": "aa0dec4945c2495a887e8f3138dd17f3",
       "version_major": 2,
       "version_minor": 0
      },
      "text/plain": [
       "A Jupyter Widget"
      ]
     },
     "metadata": {},
     "output_type": "display_data"
    },
    {
     "name": "stderr",
     "output_type": "stream",
     "text": [
      "Epoch 9: 2275.6s to complete\n",
      "    error(train)=4.64e-01, acc(train)=8.43e-01, error(valid)=4.80e-01, acc(valid)=8.39e-01\n"
     ]
    },
    {
     "data": {
      "application/vnd.jupyter.widget-view+json": {
       "model_id": "e26de7d343004cb3b49b151a77ed9fd9",
       "version_major": 2,
       "version_minor": 0
      },
      "text/plain": [
       "A Jupyter Widget"
      ]
     },
     "metadata": {},
     "output_type": "display_data"
    },
    {
     "name": "stderr",
     "output_type": "stream",
     "text": [
      "Epoch 10: 2703.3s to complete\n",
      "    error(train)=4.48e-01, acc(train)=8.49e-01, error(valid)=4.73e-01, acc(valid)=8.40e-01\n"
     ]
    },
    {
     "name": "stdout",
     "output_type": "stream",
     "text": [
      "\n"
     ]
    },
    {
     "data": {
      "image/png": "[encoded data removed]",
      "text/plain": [
       "<matplotlib.figure.Figure at 0x113be3710>"
      ]
     },
     "metadata": {},
     "output_type": "display_data"
    },
    {
     "data": {
      "image/png": "[encoded data removed]",
      "text/plain": [
       "<matplotlib.figure.Figure at 0x10a415e10>"
      ]
     },
     "metadata": {},
     "output_type": "display_data"
    }
   ],
   "source": [
    "# The model set up code below is provided as a starting point.\n",
    "# You will probably want to add further code cells for the\n",
    "# different experiments you run.\n",
    "\n",
    "from mlp.layers import *\n",
    "from mlp.errors import CrossEntropySoftmaxError\n",
    "from mlp.models import MultipleLayerModel\n",
    "from mlp.initialisers import ConstantInit, GlorotUniformInit\n",
    "from mlp.learning_rules import *\n",
    "from mlp.optimisers import Optimiser\n",
    "\n",
    "#setup hyperparameters\n",
    "num_epochs = 10\n",
    "stats_interval = 1\n",
    "input_dim, output_dim, hidden_dim = 784, 47, 100\n",
    "kernel_dim = 5\n",
    "\n",
    "weights_init = GlorotUniformInit(rng=rng)\n",
    "biases_init = ConstantInit(0.)\n",
    "model = MultipleLayerModel([\n",
    "    ReshapeLayer((1,28,28,)) , #(1, 28, 28)\n",
    "    PrintLayer(),\n",
    "    ConvolutionalLayer(1, 5, 28, 28, 5, 5) , # (5, 24, 24)\n",
    "    PrintLayer(),\n",
    "    TanhLayer(), # (5, 24, 24)\n",
    "    PrintLayer(),\n",
    "    MaxPoolingLayer() ,  # (5, 12, 12)\n",
    "    PrintLayer(),\n",
    "    ConvolutionalLayer(5,10,12,12,5,5), # (10, 8, 8)\n",
    "    PrintLayer(),\n",
    "    TanhLayer(), # (10, 8, 8)\n",
    "    PrintLayer(),\n",
    "    ConvolutionalLayer(10,20,8,8,5,5), # (20, 4, 4)\n",
    "    PrintLayer(),\n",
    "    TanhLayer(), # (20, 4, 4)\n",
    "    PrintLayer(),\n",
    "    ReshapeLayer((20*4*4,)), #(320)\n",
    "    PrintLayer(),\n",
    "    BatchNormalizationLayer(320),\n",
    "    PrintLayer(),\n",
    "    ReshapeLayer((20, 4, 4,)), # (20, 4, 4)\n",
    "    \n",
    "    PrintLayer(),\n",
    "    MaxPoolingLayer(), # (20, 2, 2)\n",
    "    PrintLayer(),\n",
    "    ReshapeLayer((20*2*2,)), #(80)\n",
    "    PrintLayer(),\n",
    "    BatchNormalizationLayer(80),\n",
    "    PrintLayer(),\n",
    "    AffineLayer(80, output_dim, weights_init, biases_init), # 47\n",
    "    PrintLayer()\n",
    "])\n",
    "\n",
    "\n",
    "error = CrossEntropySoftmaxError()\n",
    "# Use a basic gradient descent learning rule\n",
    "learning_rule = GradientDescentLearningRule(learning_rate=0.03)\n",
    "\n",
    "#Remember to use notebook=False when you write a script to be run in a terminal\n",
    "_ = train_model_and_plot_stats(\n",
    "    model, error, learning_rule, train_data, valid_data, num_epochs, stats_interval, notebook=True)"
   ]
  },
  {
   "cell_type": "code",
   "execution_count": 4,
   "metadata": {},
   "outputs": [
    {
     "data": {
      "text/plain": [
       "<matplotlib.figure.Figure at 0x10d6152b0>"
      ]
     },
     "metadata": {},
     "output_type": "display_data"
    }
   ],
   "source": [
    "plt.savefig('aa.pdf')"
   ]
  },
  {
   "cell_type": "code",
   "execution_count": null,
   "metadata": {
    "collapsed": true
   },
   "outputs": [],
   "source": []
  }
 ],
 "metadata": {
  "hide_input": false,
  "kernelspec": {
   "display_name": "mlp",
   "language": "python",
   "name": "mlp"
  },
  "language_info": {
   "codemirror_mode": {
    "name": "ipython",
    "version": 3
   },
   "file_extension": ".py",
   "mimetype": "text/x-python",
   "name": "python",
   "nbconvert_exporter": "python",
   "pygments_lexer": "ipython3",
   "version": "3.6.2"
  },
  "varInspector": {
   "cols": {
    "lenName": 16,
    "lenType": 16,
    "lenVar": 40
   },
   "kernels_config": {
    "python": {
     "delete_cmd_postfix": "",
     "delete_cmd_prefix": "del ",
     "library": "var_list.py",
     "varRefreshCmd": "print(var_dic_list())"
    },
    "r": {
     "delete_cmd_postfix": ") ",
     "delete_cmd_prefix": "rm(",
     "library": "var_list.r",
     "varRefreshCmd": "cat(var_dic_list()) "
    }
   },
   "types_to_exclude": [
    "module",
    "function",
    "builtin_function_or_method",
    "instance",
    "_Feature"
   ],
   "window_display": false
  }
 },
 "nbformat": 4,
 "nbformat_minor": 2
}
